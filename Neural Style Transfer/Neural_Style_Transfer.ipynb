{
  "nbformat": 4,
  "nbformat_minor": 0,
  "metadata": {
    "colab": {
      "provenance": [],
      "gpuType": "T4"
    },
    "kernelspec": {
      "name": "python3",
      "display_name": "Python 3"
    },
    "language_info": {
      "name": "python"
    },
    "accelerator": "GPU"
  },
  "cells": [
    {
      "cell_type": "code",
      "execution_count": 1,
      "metadata": {
        "id": "GMC0ABWhKmmf"
      },
      "outputs": [],
      "source": [
        "#We use the pretrained VGG19 network\n",
        "import torch\n",
        "import torch.nn as nn\n",
        "import torch.optim as optim\n",
        "from PIL import Image\n",
        "import torchvision.transforms as transforms\n",
        "import torchvision.models as models\n",
        "from torchvision.utils import save_image"
      ]
    },
    {
      "cell_type": "code",
      "source": [
        "model = models.vgg19(pretrained=True).features"
      ],
      "metadata": {
        "colab": {
          "base_uri": "https://localhost:8080/"
        },
        "id": "wllm2emrLQ6b",
        "outputId": "cd28ff80-8bf7-410f-bf78-055a61887bfb"
      },
      "execution_count": 2,
      "outputs": [
        {
          "output_type": "stream",
          "name": "stderr",
          "text": [
            "/usr/local/lib/python3.10/dist-packages/torchvision/models/_utils.py:208: UserWarning: The parameter 'pretrained' is deprecated since 0.13 and may be removed in the future, please use 'weights' instead.\n",
            "  warnings.warn(\n",
            "/usr/local/lib/python3.10/dist-packages/torchvision/models/_utils.py:223: UserWarning: Arguments other than a weight enum or `None` for 'weights' are deprecated since 0.13 and may be removed in the future. The current behavior is equivalent to passing `weights=VGG19_Weights.IMAGENET1K_V1`. You can also use `weights=VGG19_Weights.DEFAULT` to get the most up-to-date weights.\n",
            "  warnings.warn(msg)\n",
            "Downloading: \"https://download.pytorch.org/models/vgg19-dcbb9e9d.pth\" to /root/.cache/torch/hub/checkpoints/vgg19-dcbb9e9d.pth\n",
            "100%|██████████| 548M/548M [00:07<00:00, 73.8MB/s]\n"
          ]
        }
      ]
    },
    {
      "cell_type": "code",
      "source": [
        "print(model)"
      ],
      "metadata": {
        "colab": {
          "base_uri": "https://localhost:8080/"
        },
        "id": "lCN1e2xwLbyI",
        "outputId": "c85a8e86-8651-44c6-c271-86171d385e74"
      },
      "execution_count": 3,
      "outputs": [
        {
          "output_type": "stream",
          "name": "stdout",
          "text": [
            "Sequential(\n",
            "  (0): Conv2d(3, 64, kernel_size=(3, 3), stride=(1, 1), padding=(1, 1))\n",
            "  (1): ReLU(inplace=True)\n",
            "  (2): Conv2d(64, 64, kernel_size=(3, 3), stride=(1, 1), padding=(1, 1))\n",
            "  (3): ReLU(inplace=True)\n",
            "  (4): MaxPool2d(kernel_size=2, stride=2, padding=0, dilation=1, ceil_mode=False)\n",
            "  (5): Conv2d(64, 128, kernel_size=(3, 3), stride=(1, 1), padding=(1, 1))\n",
            "  (6): ReLU(inplace=True)\n",
            "  (7): Conv2d(128, 128, kernel_size=(3, 3), stride=(1, 1), padding=(1, 1))\n",
            "  (8): ReLU(inplace=True)\n",
            "  (9): MaxPool2d(kernel_size=2, stride=2, padding=0, dilation=1, ceil_mode=False)\n",
            "  (10): Conv2d(128, 256, kernel_size=(3, 3), stride=(1, 1), padding=(1, 1))\n",
            "  (11): ReLU(inplace=True)\n",
            "  (12): Conv2d(256, 256, kernel_size=(3, 3), stride=(1, 1), padding=(1, 1))\n",
            "  (13): ReLU(inplace=True)\n",
            "  (14): Conv2d(256, 256, kernel_size=(3, 3), stride=(1, 1), padding=(1, 1))\n",
            "  (15): ReLU(inplace=True)\n",
            "  (16): Conv2d(256, 256, kernel_size=(3, 3), stride=(1, 1), padding=(1, 1))\n",
            "  (17): ReLU(inplace=True)\n",
            "  (18): MaxPool2d(kernel_size=2, stride=2, padding=0, dilation=1, ceil_mode=False)\n",
            "  (19): Conv2d(256, 512, kernel_size=(3, 3), stride=(1, 1), padding=(1, 1))\n",
            "  (20): ReLU(inplace=True)\n",
            "  (21): Conv2d(512, 512, kernel_size=(3, 3), stride=(1, 1), padding=(1, 1))\n",
            "  (22): ReLU(inplace=True)\n",
            "  (23): Conv2d(512, 512, kernel_size=(3, 3), stride=(1, 1), padding=(1, 1))\n",
            "  (24): ReLU(inplace=True)\n",
            "  (25): Conv2d(512, 512, kernel_size=(3, 3), stride=(1, 1), padding=(1, 1))\n",
            "  (26): ReLU(inplace=True)\n",
            "  (27): MaxPool2d(kernel_size=2, stride=2, padding=0, dilation=1, ceil_mode=False)\n",
            "  (28): Conv2d(512, 512, kernel_size=(3, 3), stride=(1, 1), padding=(1, 1))\n",
            "  (29): ReLU(inplace=True)\n",
            "  (30): Conv2d(512, 512, kernel_size=(3, 3), stride=(1, 1), padding=(1, 1))\n",
            "  (31): ReLU(inplace=True)\n",
            "  (32): Conv2d(512, 512, kernel_size=(3, 3), stride=(1, 1), padding=(1, 1))\n",
            "  (33): ReLU(inplace=True)\n",
            "  (34): Conv2d(512, 512, kernel_size=(3, 3), stride=(1, 1), padding=(1, 1))\n",
            "  (35): ReLU(inplace=True)\n",
            "  (36): MaxPool2d(kernel_size=2, stride=2, padding=0, dilation=1, ceil_mode=False)\n",
            ")\n"
          ]
        }
      ]
    },
    {
      "cell_type": "code",
      "source": [
        "class VGG(nn.Module):\n",
        "  def __init__(self):\n",
        "    super(VGG, self).__init__()\n",
        "    self.chosen_features = ['0', '5', '10', '19', '28']\n",
        "    self.model = models.vgg19(pretrained=True).features[:29]\n",
        "\n",
        "  def forward(self, x):\n",
        "    features = []\n",
        "    for layer_num, layer in enumerate(self.model):\n",
        "      x = layer(x)\n",
        "      if str(layer_num) in self.chosen_features:\n",
        "        features.append(x)\n",
        "\n",
        "    return features"
      ],
      "metadata": {
        "id": "phmaDhDkLhFB"
      },
      "execution_count": 4,
      "outputs": []
    },
    {
      "cell_type": "code",
      "source": [
        "def load_image(image_name):\n",
        "  image = Image.open(image_name)\n",
        "  image = loader(image).unsqueeze(0)\n",
        "  return image.to(device)\n",
        "\n",
        "device = torch.device(\"cuda\" if torch.cuda.is_available else \"cpu\")\n",
        "image_size = 356\n",
        "\n",
        "loader = transforms.Compose(\n",
        "    [\n",
        "        transforms.Resize((image_size, image_size)),\n",
        "        transforms.ToTensor(),\n",
        "    ]\n",
        ")"
      ],
      "metadata": {
        "id": "unrV8xnnMy3k"
      },
      "execution_count": 5,
      "outputs": []
    },
    {
      "cell_type": "code",
      "source": [
        "original_image = load_image('annahathaway.png')"
      ],
      "metadata": {
        "id": "PRNvZOuiNgrO"
      },
      "execution_count": 14,
      "outputs": []
    },
    {
      "cell_type": "code",
      "source": [
        "style_image = load_image('style.jpg')"
      ],
      "metadata": {
        "id": "ZE6Y_uT-Ot4l"
      },
      "execution_count": 15,
      "outputs": []
    },
    {
      "cell_type": "code",
      "source": [
        "model = VGG().to(device).eval()\n",
        "generated = original_image.clone().requires_grad_(True)"
      ],
      "metadata": {
        "colab": {
          "base_uri": "https://localhost:8080/"
        },
        "id": "1Plm6tW3OyEW",
        "outputId": "67b6b69a-1a35-464f-eecf-08a7e6ce8e2c"
      },
      "execution_count": 16,
      "outputs": [
        {
          "output_type": "stream",
          "name": "stderr",
          "text": [
            "/usr/local/lib/python3.10/dist-packages/torchvision/models/_utils.py:208: UserWarning: The parameter 'pretrained' is deprecated since 0.13 and may be removed in the future, please use 'weights' instead.\n",
            "  warnings.warn(\n",
            "/usr/local/lib/python3.10/dist-packages/torchvision/models/_utils.py:223: UserWarning: Arguments other than a weight enum or `None` for 'weights' are deprecated since 0.13 and may be removed in the future. The current behavior is equivalent to passing `weights=VGG19_Weights.IMAGENET1K_V1`. You can also use `weights=VGG19_Weights.DEFAULT` to get the most up-to-date weights.\n",
            "  warnings.warn(msg)\n"
          ]
        }
      ]
    },
    {
      "cell_type": "code",
      "source": [
        "total_steps = 6000\n",
        "learning_rate = 0.001\n",
        "alpha = 1\n",
        "beta = 0.01\n"
      ],
      "metadata": {
        "id": "8XCZ9rHyPEzJ"
      },
      "execution_count": 17,
      "outputs": []
    },
    {
      "cell_type": "code",
      "source": [
        "optimizer = optim.Adam([generated], lr=learning_rate)"
      ],
      "metadata": {
        "id": "A1xTEWfUPROr"
      },
      "execution_count": 18,
      "outputs": []
    },
    {
      "cell_type": "code",
      "source": [
        "for step in range(total_steps):\n",
        "  generated_features = model(generated)\n",
        "  original_img_features = model(original_image)\n",
        "  style_features = model(style_image)\n",
        "  style_loss = original_loss = 0\n",
        "\n",
        "  for gen_feature, orig_feature, style_feature in zip(\n",
        "      generated_features, original_img_features, style_features\n",
        "  ):\n",
        "    batch_size, channel, height, width = gen_feature.shape\n",
        "    original_loss += torch.mean((gen_feature - orig_feature) ** 2)\n",
        "\n",
        "    G = gen_feature.view(channel, height*width).mm(\n",
        "        gen_feature.view(channel, height*width).t()\n",
        "    )\n",
        "\n",
        "    A = style_feature.view(channel, height*width).mm(\n",
        "        style_feature.view(channel, height*width).t()\n",
        "    )\n",
        "\n",
        "    style_loss += torch.mean((G - A) ** 2)\n",
        "  total_loss = alpha * original_loss + beta  * style_loss\n",
        "  optimizer.zero_grad()\n",
        "  total_loss.backward()\n",
        "  optimizer.step()\n",
        "\n",
        "  if step % 200 == 0:\n",
        "    print(total_loss)\n",
        "    save_image(generated, 'generated.png')"
      ],
      "metadata": {
        "colab": {
          "base_uri": "https://localhost:8080/"
        },
        "id": "naptd1xVPXrs",
        "outputId": "951bc9b9-31e4-444f-c725-15355d7b773b"
      },
      "execution_count": 22,
      "outputs": [
        {
          "output_type": "stream",
          "name": "stdout",
          "text": [
            "tensor(1579650.8750, device='cuda:0', grad_fn=<AddBackward0>)\n",
            "tensor(84283., device='cuda:0', grad_fn=<AddBackward0>)\n",
            "tensor(39234.9766, device='cuda:0', grad_fn=<AddBackward0>)\n",
            "tensor(28047.4609, device='cuda:0', grad_fn=<AddBackward0>)\n",
            "tensor(22963.9258, device='cuda:0', grad_fn=<AddBackward0>)\n",
            "tensor(19655.9492, device='cuda:0', grad_fn=<AddBackward0>)\n",
            "tensor(17174.5898, device='cuda:0', grad_fn=<AddBackward0>)\n",
            "tensor(15166.9668, device='cuda:0', grad_fn=<AddBackward0>)\n",
            "tensor(13460.9521, device='cuda:0', grad_fn=<AddBackward0>)\n",
            "tensor(11982.3027, device='cuda:0', grad_fn=<AddBackward0>)\n",
            "tensor(10696.8359, device='cuda:0', grad_fn=<AddBackward0>)\n",
            "tensor(9583.5459, device='cuda:0', grad_fn=<AddBackward0>)\n",
            "tensor(8621.6748, device='cuda:0', grad_fn=<AddBackward0>)\n",
            "tensor(7799.9907, device='cuda:0', grad_fn=<AddBackward0>)\n",
            "tensor(7095.5288, device='cuda:0', grad_fn=<AddBackward0>)\n",
            "tensor(6490.7441, device='cuda:0', grad_fn=<AddBackward0>)\n",
            "tensor(5964.9897, device='cuda:0', grad_fn=<AddBackward0>)\n",
            "tensor(5507.0532, device='cuda:0', grad_fn=<AddBackward0>)\n",
            "tensor(5108.7197, device='cuda:0', grad_fn=<AddBackward0>)\n",
            "tensor(4760.9121, device='cuda:0', grad_fn=<AddBackward0>)\n",
            "tensor(4454.7568, device='cuda:0', grad_fn=<AddBackward0>)\n",
            "tensor(4183.6865, device='cuda:0', grad_fn=<AddBackward0>)\n",
            "tensor(3942.7588, device='cuda:0', grad_fn=<AddBackward0>)\n",
            "tensor(3729.9602, device='cuda:0', grad_fn=<AddBackward0>)\n",
            "tensor(3541.1182, device='cuda:0', grad_fn=<AddBackward0>)\n",
            "tensor(3374.2283, device='cuda:0', grad_fn=<AddBackward0>)\n",
            "tensor(3226.3530, device='cuda:0', grad_fn=<AddBackward0>)\n",
            "tensor(3093.4604, device='cuda:0', grad_fn=<AddBackward0>)\n",
            "tensor(2977.1704, device='cuda:0', grad_fn=<AddBackward0>)\n",
            "tensor(2868.7485, device='cuda:0', grad_fn=<AddBackward0>)\n"
          ]
        }
      ]
    },
    {
      "cell_type": "code",
      "source": [],
      "metadata": {
        "id": "T-C-QHpOPzqR"
      },
      "execution_count": null,
      "outputs": []
    }
  ]
}